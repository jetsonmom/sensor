{
 "cells": [
  {
   "cell_type": "code",
   "execution_count": 3,
   "id": "0fab13d0",
   "metadata": {},
   "outputs": [
    {
     "name": "stderr",
     "output_type": "stream",
     "text": [
      "/usr/lib/python3/dist-packages/Jetson/GPIO/gpio.py:386: RuntimeWarning: This channel is already in use, continuing anyway. Use GPIO.setwarnings(False) to disable warnings\n",
      "  RuntimeWarning)\n"
     ]
    },
    {
     "name": "stdout",
     "output_type": "stream",
     "text": [
      "PM2.5 농도: 0.62 ug/m3\n"
     ]
    }
   ],
   "source": [
    "import time\n",
    "import Jetson.GPIO as GPIO\n",
    "\n",
    "# # GPIO 핀 설정\n",
    "# PIN = 8  # 센서의 LOW 신호를 연결할 GPIO 핀 번호 (BCM 기준)\n",
    "\n",
    "# # GPIO 초기화\n",
    "# GPIO.setmode(GPIO.BCM)\n",
    "# GPIO.setup(PIN, GPIO.IN)\n",
    "\n",
    "def get_pm25_concentration(sample_time_ms=3000):\n",
    "    PIN = 8  # 센서의 LOW 신호를 연결할 GPIO 핀 번호 (BCM 기준)\n",
    "\n",
    "    # GPIO 초기화\n",
    "    GPIO.setmode(GPIO.BCM)\n",
    "    GPIO.setup(PIN, GPIO.IN)\n",
    "    \"\"\"\n",
    "    GPIO 핀에서 LOW 신호를 측정하여 PM2.5 농도를 계산합니다.\n",
    "\n",
    "    :param sample_time_ms: 샘플링 시간 (기본값: 30000ms = 30초)\n",
    "    :return: PM2.5 농도 (ug/m3)\n",
    "    \"\"\"\n",
    "    lowpulseoccupancy = 0  # LOW 신호 지속 시간 누적 (마이크로초 단위)\n",
    "    start_time = time.time() * 1000  # 현재 시간 (밀리초)\n",
    "\n",
    "    # print(\"미세먼지 농도 측정 중...\")\n",
    "\n",
    "    while (time.time() * 1000 - start_time) < sample_time_ms:\n",
    "        if GPIO.input(PIN) == 0:  # LOW 신호 감지\n",
    "            pulse_start = time.time()\n",
    "            while GPIO.input(PIN) == 0:  # LOW 상태 지속\n",
    "                pass\n",
    "            pulse_end = time.time()\n",
    "            duration = (pulse_end - pulse_start) * 1_000_000  # 마이크로초로 변환\n",
    "            lowpulseoccupancy += duration\n",
    "\n",
    "    # Ratio 및 농도 계산\n",
    "    ratio = lowpulseoccupancy / (sample_time_ms * 10.0)\n",
    "    concentration = 1.1 * 0.4 * (ratio ** 3) - 3.8 * 0.4 *  (ratio ** 2) + 520 * 0.4 * ratio + 0.62  # ug/m3 단위\n",
    "    return str(concentration)\n",
    "\n",
    "try:\n",
    "    pm25_concentration = get_pm25_concentration()\n",
    "    print(f\"PM2.5 농도: {float(pm25_concentration):.2f} ug/m3\")\n",
    "except KeyboardInterrupt:\n",
    "    print(\"\\n측정을 중단했습니다.\")\n",
    "finally:\n",
    "    GPIO.cleanup()  # GPIO 핀 초기화\n"
   ]
  },
  {
   "cell_type": "code",
   "execution_count": null,
   "id": "7071ea26",
   "metadata": {},
   "outputs": [],
   "source": []
  },
  {
   "cell_type": "code",
   "execution_count": null,
   "id": "70a632f6",
   "metadata": {},
   "outputs": [],
   "source": []
  },
  {
   "cell_type": "code",
   "execution_count": null,
   "id": "f8345c86",
   "metadata": {},
   "outputs": [],
   "source": []
  }
 ],
 "metadata": {
  "kernelspec": {
   "display_name": "Python 3",
   "language": "python",
   "name": "python3"
  },
  "language_info": {
   "codemirror_mode": {
    "name": "ipython",
    "version": 3
   },
   "file_extension": ".py",
   "mimetype": "text/x-python",
   "name": "python",
   "nbconvert_exporter": "python",
   "pygments_lexer": "ipython3",
   "version": "3.6.9"
  }
 },
 "nbformat": 4,
 "nbformat_minor": 5
}
